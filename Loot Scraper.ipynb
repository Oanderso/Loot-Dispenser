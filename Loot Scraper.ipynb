{
 "cells": [
  {
   "cell_type": "code",
   "execution_count": 5,
   "id": "96f3217d",
   "metadata": {},
   "outputs": [],
   "source": [
    "# A program that scrapes tables on websites."
   ]
  },
  {
   "cell_type": "code",
   "execution_count": 21,
   "id": "9e6df917",
   "metadata": {},
   "outputs": [
    {
     "ename": "ModuleNotFoundError",
     "evalue": "No module named 'selenium'",
     "output_type": "error",
     "traceback": [
      "\u001b[1;31m---------------------------------------------------------------------------\u001b[0m",
      "\u001b[1;31mModuleNotFoundError\u001b[0m                       Traceback (most recent call last)",
      "\u001b[1;32m~\\AppData\\Local\\Temp/ipykernel_1580/2035549442.py\u001b[0m in \u001b[0;36m<module>\u001b[1;34m\u001b[0m\n\u001b[0;32m      5\u001b[0m \u001b[1;32mimport\u001b[0m \u001b[0mrequests\u001b[0m\u001b[1;33m\u001b[0m\u001b[1;33m\u001b[0m\u001b[0m\n\u001b[0;32m      6\u001b[0m \u001b[1;32mfrom\u001b[0m \u001b[0mbs4\u001b[0m \u001b[1;32mimport\u001b[0m \u001b[0mBeautifulSoup\u001b[0m\u001b[1;33m\u001b[0m\u001b[1;33m\u001b[0m\u001b[0m\n\u001b[1;32m----> 7\u001b[1;33m \u001b[1;32mimport\u001b[0m \u001b[0mselenium\u001b[0m \u001b[1;32mas\u001b[0m \u001b[0mselenium\u001b[0m\u001b[1;33m\u001b[0m\u001b[1;33m\u001b[0m\u001b[0m\n\u001b[0m",
      "\u001b[1;31mModuleNotFoundError\u001b[0m: No module named 'selenium'"
     ]
    }
   ],
   "source": [
    "import urllib.request\n",
    "from pprint import pprint\n",
    "from html_table_parser.parser import HTMLTableParser\n",
    "import pandas as pd\n",
    "import requests\n",
    "from bs4 import BeautifulSoup\n",
    "import selenium as selenium\n"
   ]
  },
  {
   "cell_type": "code",
   "execution_count": 20,
   "id": "17203703",
   "metadata": {},
   "outputs": [
    {
     "ename": "ModuleNotFoundError",
     "evalue": "No module named 'selenium'",
     "output_type": "error",
     "traceback": [
      "\u001b[1;31m---------------------------------------------------------------------------\u001b[0m",
      "\u001b[1;31mModuleNotFoundError\u001b[0m                       Traceback (most recent call last)",
      "\u001b[1;32m~\\AppData\\Local\\Temp/ipykernel_1580/723889675.py\u001b[0m in \u001b[0;36m<module>\u001b[1;34m\u001b[0m\n\u001b[1;32m----> 1\u001b[1;33m \u001b[1;32mfrom\u001b[0m \u001b[0mselenium\u001b[0m \u001b[1;32mimport\u001b[0m \u001b[0mwebdriver\u001b[0m\u001b[1;33m\u001b[0m\u001b[1;33m\u001b[0m\u001b[0m\n\u001b[0m\u001b[0;32m      2\u001b[0m \u001b[1;32mfrom\u001b[0m \u001b[0mselenium\u001b[0m\u001b[1;33m.\u001b[0m\u001b[0mwebdriver\u001b[0m\u001b[1;33m.\u001b[0m\u001b[0mcommon\u001b[0m\u001b[1;33m.\u001b[0m\u001b[0mby\u001b[0m \u001b[1;32mimport\u001b[0m \u001b[0mBy\u001b[0m\u001b[1;33m\u001b[0m\u001b[1;33m\u001b[0m\u001b[0m\n\u001b[0;32m      3\u001b[0m \u001b[1;32mfrom\u001b[0m \u001b[0mselenium\u001b[0m\u001b[1;33m.\u001b[0m\u001b[0mwebdriver\u001b[0m\u001b[1;33m.\u001b[0m\u001b[0msupport\u001b[0m\u001b[1;33m.\u001b[0m\u001b[0mui\u001b[0m \u001b[1;32mimport\u001b[0m \u001b[0mWebDriverWait\u001b[0m\u001b[1;33m\u001b[0m\u001b[1;33m\u001b[0m\u001b[0m\n\u001b[0;32m      4\u001b[0m \u001b[1;32mfrom\u001b[0m \u001b[0mselenium\u001b[0m\u001b[1;33m.\u001b[0m\u001b[0mwebdriver\u001b[0m\u001b[1;33m.\u001b[0m\u001b[0msupport\u001b[0m \u001b[1;32mimport\u001b[0m \u001b[0mexpected_conditions\u001b[0m \u001b[1;32mas\u001b[0m \u001b[0mEC\u001b[0m\u001b[1;33m\u001b[0m\u001b[1;33m\u001b[0m\u001b[0m\n\u001b[0;32m      5\u001b[0m \u001b[1;32mimport\u001b[0m \u001b[0mpandas\u001b[0m \u001b[1;32mas\u001b[0m \u001b[0mpd\u001b[0m\u001b[1;33m\u001b[0m\u001b[1;33m\u001b[0m\u001b[0m\n",
      "\u001b[1;31mModuleNotFoundError\u001b[0m: No module named 'selenium'"
     ]
    }
   ],
   "source": [
    "from selenium import webdriver\n",
    "from selenium.webdriver.common.by import By\n",
    "from selenium.webdriver.support.ui import WebDriverWait\n",
    "from selenium.webdriver.support import expected_conditions as EC\n",
    "import pandas as pd\n",
    "driver = webdriver.Chrome()\n",
    "url = 'https://rotogrinders.com/projected-stats/nfl-qb?site=fanduel'\n",
    "driver.get(url)\n",
    "table =WebDriverWait(driver,10).until(EC.visibility_of_element_located((By.XPATH,\"//*[@id='proj-stats']\")))\n",
    "\n",
    "Player_Name = []\n",
    "Player_Price=[]\n",
    "for row in driver.find_elements_by_xpath(\".//div[@class='player']/a\"):\n",
    "    Player_Name.append(row.text)\n",
    "\n",
    "for row in driver.find_elements_by_xpath(\".//div[@class='rgt-col']/div[@class='rgt-hdr'][contains(.,'Salary')]/following-sibling::div\"):\n",
    "    Player_Price.append(row.text)\n",
    "\n",
    "df = pd.DataFrame({\"Player Name\":Player_Name,\"Salary\":Player_Price})\n",
    "print(df)"
   ]
  },
  {
   "cell_type": "code",
   "execution_count": 15,
   "id": "4238664d",
   "metadata": {},
   "outputs": [
    {
     "name": "stdout",
     "output_type": "stream",
     "text": [
      "                                           Magic Item           Type   \\\n",
      "0                                     Adamantine Armor         Armor    \n",
      "1                                          Alchemy Jug  Wondrous item   \n",
      "2                             Ammunition +1, +2, or +3        Weapon    \n",
      "3                                     Amulet of Health  Wondrous item   \n",
      "4       Amulet of Proof against Detection and Location  Wondrous item   \n",
      "..  ..                                             ...            ...   \n",
      "271                                Well of Many Worlds  Wondrous item   \n",
      "272                                              Whelm        Weapon    \n",
      "273                                           Wind Fan  Wondrous item   \n",
      "274                                       Winged Boots  Wondrous item   \n",
      "275                                    Wings of Flying  Wondrous item   \n",
      "\n",
      "                       Rarety  Attunement                        Source   \n",
      "0                     uncommon              Dungeon Master´s Guide (SRD)  \n",
      "1                     uncommon               Dungeon Master´s Guide (BR)  \n",
      "2    uncommon (+1) rare (+2...              Dungeon Master´s Guide (SRD)  \n",
      "3                         rare  Attunement  Dungeon Master´s Guide (SRD)  \n",
      "4                     uncommon  Attunement  Dungeon Master´s Guide (SRD)  \n",
      "..                         ...         ...                           ...  \n",
      "271                  legendary              Dungeon Master´s Guide (SRD)  \n",
      "272                  legendary  Attunement        Dungeon Master´s Guide  \n",
      "273                   uncommon              Dungeon Master´s Guide (SRD)  \n",
      "274                   uncommon  Attunement  Dungeon Master´s Guide (SRD)  \n",
      "275                       rare  Attunement  Dungeon Master´s Guide (SRD)  \n",
      "\n",
      "[276 rows x 6 columns]\n"
     ]
    }
   ],
   "source": [
    " \n",
    "class HTMLTableParser:\n",
    "\n",
    "    def parse_url(self, url):\n",
    "        response = requests.get(url)\n",
    "        soup = BeautifulSoup(response.text, 'lxml')\n",
    "        return [(table['id'],self.parse_html_table(table))\\\n",
    "                for table in soup.find_all('table')]  \n",
    "\n",
    "    def parse_html_table(self, table):\n",
    "        n_columns = 0\n",
    "        n_rows=0\n",
    "        column_names = []\n",
    "\n",
    "        # Find number of rows and columns\n",
    "        # we also find the column titles if we can\n",
    "        for row in table.find_all('tr'):\n",
    "\n",
    "            # Determine the number of rows in the table\n",
    "            td_tags = row.find_all('td')\n",
    "            if len(td_tags) > 0:\n",
    "                n_rows+=1\n",
    "                if n_columns == 0:\n",
    "                    # Set the number of columns for our table\n",
    "                    n_columns = len(td_tags)\n",
    "\n",
    "            # Handle column names if we find them\n",
    "            th_tags = row.find_all('th') \n",
    "            if len(th_tags) > 0 and len(column_names) == 0:\n",
    "                for th in th_tags:\n",
    "                    column_names.append(th.get_text())\n",
    "\n",
    "        # Safeguard on Column Titles\n",
    "        if len(column_names) > 0 and len(column_names) != n_columns:\n",
    "            raise Exception(\"Column titles do not match the number of columns\")\n",
    "\n",
    "        columns = column_names if len(column_names) > 0 else range(0,n_columns)\n",
    "        df = pd.DataFrame(columns = columns,\n",
    "                          index= range(0,n_rows))\n",
    "        row_marker = 0\n",
    "        for row in table.find_all('tr'):\n",
    "            column_marker = 0\n",
    "            columns = row.find_all('td')\n",
    "            for column in columns:\n",
    "                df.iat[row_marker,column_marker] = column.get_text()\n",
    "                column_marker += 1\n",
    "            if len(columns) > 0:\n",
    "                row_marker += 1\n",
    "\n",
    "        # Convert to float if possible\n",
    "        for col in df:\n",
    "            try:\n",
    "                df[col] = df[col].astype(float)\n",
    "            except ValueError:\n",
    "                pass\n",
    "\n",
    "        return df\n",
    "    \n",
    "\n",
    "def table_formatter(url):\n",
    "    \n",
    "    hp = HTMLTableParser()\n",
    "    table = hp.parse_url(url)[0][1] # Grabbing the table from the tuple\n",
    "    table.astype(str)\n",
    "    \n",
    "    return table\n",
    "    \n",
    "    \n",
    "def main():\n",
    "    #url = 'http://dnd5e.wikidot.com/wondrous-items'\n",
    "    url = \"https://www.aidedd.org/dnd-filters/magic-items.php#pied\"\n",
    "    #url = \"https://donjon.bin.sh/5e/magic_items/\"\n",
    "    loot_table = table_formatter(url)\n",
    "    pprint(loot_table)\n",
    "    \n",
    "    \n",
    "    \n",
    "main()\n"
   ]
  },
  {
   "cell_type": "code",
   "execution_count": null,
   "id": "d4cbd22f",
   "metadata": {},
   "outputs": [],
   "source": []
  },
  {
   "cell_type": "code",
   "execution_count": null,
   "id": "a5e2041b",
   "metadata": {},
   "outputs": [],
   "source": []
  }
 ],
 "metadata": {
  "kernelspec": {
   "display_name": "Python 3 (ipykernel)",
   "language": "python",
   "name": "python3"
  },
  "language_info": {
   "codemirror_mode": {
    "name": "ipython",
    "version": 3
   },
   "file_extension": ".py",
   "mimetype": "text/x-python",
   "name": "python",
   "nbconvert_exporter": "python",
   "pygments_lexer": "ipython3",
   "version": "3.9.7"
  }
 },
 "nbformat": 4,
 "nbformat_minor": 5
}
